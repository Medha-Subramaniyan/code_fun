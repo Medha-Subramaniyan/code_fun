{
 "cells": [
  {
   "cell_type": "markdown",
   "metadata": {},
   "source": [
    "# Swap Without a Temp\n",
    "Write a snippet that swaps the values of a and b without using a third variable.\n",
    "\n",
    "a = 5\n",
    "b = 12\n",
    "\n",
    "print(a, b)  # should print: 12 5\n",
    "\n",
    "# Learned\n",
    "- a,b = b,a -> tuple unpacking (assigning the individual elements of a tuple to distinct variables)\n",
    "- print with f string using  f\".....{varialbe}...\""
   ]
  },
  {
   "cell_type": "code",
   "execution_count": 9,
   "metadata": {},
   "outputs": [
    {
     "name": "stdout",
     "output_type": "stream",
     "text": [
      "a=12, b=5\n"
     ]
    }
   ],
   "source": [
    "a=5 \n",
    "b=12\n",
    "\n",
    "a,b = b,a\n",
    "print(f\"a={a}, b={b}\")"
   ]
  },
  {
   "cell_type": "markdown",
   "metadata": {},
   "source": [
    "# vowel Counter\n",
    "Given a string, count how many vowels (a, e, i, o, u) it contains. Return a dictionary mapping each vowel to its count.\n",
    "\n",
    "# Learned\n",
    "- incrementing to a dictionary...use the key as the index "
   ]
  },
  {
   "cell_type": "code",
   "execution_count": 44,
   "metadata": {},
   "outputs": [
    {
     "name": "stdout",
     "output_type": "stream",
     "text": [
      "{'a': 1, 'e': 0, 'i': 0, 'o': 0, 'u': 0}\n"
     ]
    }
   ],
   "source": [
    "str = input(\"Enter a string:\")\n",
    "vowels = {'a':0, 'e':0, 'i':0, 'o':0, 'u':0}\n",
    "strLen = len(str) #length string \n",
    "lenVow = len(vowels) #5 \n",
    "\n",
    "\n",
    "for i in range(0,strLen):\n",
    "    if str[i] == 'a':\n",
    "            vowels['a'] +=1 \n",
    "    elif str[i] == 'e':\n",
    "            vowels['e'] +=1 \n",
    "    elif str[i] == 'i':\n",
    "            vowels['i'] +=1 \n",
    "    elif str[i] == 'o':\n",
    "            vowels['o'] +=1 \n",
    "    elif str[i] == 'u':\n",
    "            vowels['u'] +=1 \n",
    "    \n",
    "\n",
    "print(vowels)\n"
   ]
  },
  {
   "cell_type": "markdown",
   "metadata": {},
   "source": [
    "# Flatten Nested List\n",
    "Write a one-line list comprehension that flattens [[1,2],[3,4],[5]] into [1,2,3,4,5].\n",
    "\n",
    "# Learned\n",
    "- How to flatted a nested list -> use .extend()"
   ]
  },
  {
   "cell_type": "code",
   "execution_count": 37,
   "metadata": {},
   "outputs": [
    {
     "data": {
      "text/plain": [
       "[1, 2, 3, 4, 5, 6, 7]"
      ]
     },
     "execution_count": 37,
     "metadata": {},
     "output_type": "execute_result"
    }
   ],
   "source": [
    "nest = [[1,2],[3,4],[5],[6,7]]\n",
    "flat = []\n",
    "for i in nest:  # for i = 0; i< len(nest); i++\n",
    "        flat.extend(i)\n",
    "flat"
   ]
  },
  {
   "cell_type": "markdown",
   "metadata": {},
   "source": [
    "# Word Frequency\n",
    "Read a sentence from the user, split into words, and build a dict of word→count. Use .split() and iterate.\n",
    "\n",
    "# Learned\n",
    "- Collections.counter\n",
    "    -returns a dictionary-like object where keys are the unique values and their corresponding values are their counts. \n",
    "\n",
    "- from collections import Counter\n",
    "- my_list = [1, 2, 3, 2, 4, 2, 5, 1, 3]\n",
    "- counts = Counter(my_list)\n",
    "- print(counts)\n",
    "\n",
    "\n",
    "-LISTNAME.count()\n",
    "\n",
    "\n"
   ]
  },
  {
   "cell_type": "code",
   "execution_count": 66,
   "metadata": {},
   "outputs": [],
   "source": [
    "from collections import Counter\n",
    "\n",
    "sentence = input(\"Enter a sentence: \")\n",
    "words = sentence.split(\" \") #puts the words in a list \n",
    "counts = Counter(words) \n",
    "\n",
    "\n"
   ]
  },
  {
   "cell_type": "code",
   "execution_count": 67,
   "metadata": {},
   "outputs": [
    {
     "data": {
      "text/plain": [
       "{'My': 1, 'name': 1, 'is': 2, 'Medha': 2, 'and': 1, 'yours': 1}"
      ]
     },
     "execution_count": 67,
     "metadata": {},
     "output_type": "execute_result"
    }
   ],
   "source": [
    "#alternativly, you can use list.count() \n",
    "\n",
    "#step through the sentence, key's value +=1 if it reaches a word that matches \n",
    "count_dict = dict.fromkeys(words, 0)\n",
    "lenWords = len(words)\n",
    "\n",
    "for i in range (0,lenWords):\n",
    "    word = words[i] # choose  word of sentence   #count how many times the  word appears\n",
    "    if word in count_dict:\n",
    "        count_dict[word] +=1   \n",
    "\n",
    "count_dict "
   ]
  },
  {
   "cell_type": "markdown",
   "metadata": {},
   "source": [
    "# Unique Preserver\n",
    "Given a list with duplicates, produce a tuple of its unique items in their original order (hint: use a set to track seen).\n",
    "\n",
    "# Learned\n",
    "- When you convert a list to a set, the original order is lost.\n",
    "- To maintain the order without duplicates, add it to set and then add it to a result\n",
    "    - Sets cant have duplicate values"
   ]
  },
  {
   "cell_type": "code",
   "execution_count": 78,
   "metadata": {},
   "outputs": [
    {
     "name": "stdout",
     "output_type": "stream",
     "text": [
      "('apple', 'banana', 'orange', 'kiwi')\n"
     ]
    }
   ],
   "source": [
    "input_list = [\"apple\", \"banana\", \"apple\", \"orange\", \"banana\", \"kiwi\"]\n",
    "\n",
    "\n",
    "\n",
    "def unique_Tuple(list):\n",
    "    seen = set() #create an empty set for seen elements\n",
    "    result = [] #create an empty list for the result\n",
    "    for item in list: #step through the list\n",
    "        if item not in result: #if the item is not in result list \n",
    "            seen.add(item) #add it to the set \n",
    "            result.append(item) #add the apended set item to the list \n",
    "\n",
    "    return tuple(result) #cast list as tuple and return \n",
    "\n",
    "print(unique_Tuple(input_list))\n",
    "\n",
    "\n"
   ]
  },
  {
   "cell_type": "markdown",
   "metadata": {},
   "source": [
    "# #  2. Control Flow\n"
   ]
  },
  {
   "cell_type": "markdown",
   "metadata": {},
   "source": [
    "# FizzBuzz Variant\n",
    "For numbers 1–50, print “Fizz” if divisible by 3, “Buzz” if by 5, “FizzBuzz” if by both—and the number otherwise.\n",
    "\n",
    "# Learned\n",
    "- If theres a logical that combine both of the checks put it as the first if"
   ]
  },
  {
   "cell_type": "code",
   "execution_count": 91,
   "metadata": {},
   "outputs": [
    {
     "name": "stdout",
     "output_type": "stream",
     "text": [
      "1\n",
      "2\n",
      "Fizz\n",
      "4\n",
      "Buzz\n",
      "Fizz\n",
      "7\n",
      "8\n",
      "Fizz\n",
      "Buzz\n",
      "11\n",
      "Fizz\n",
      "13\n",
      "14\n",
      "FizzBuzz\n",
      "16\n",
      "17\n",
      "Fizz\n",
      "19\n",
      "Buzz\n",
      "Fizz\n",
      "22\n",
      "23\n",
      "Fizz\n",
      "Buzz\n",
      "26\n",
      "Fizz\n",
      "28\n",
      "29\n",
      "FizzBuzz\n",
      "31\n",
      "32\n",
      "Fizz\n",
      "34\n",
      "Buzz\n",
      "Fizz\n",
      "37\n",
      "38\n",
      "Fizz\n",
      "Buzz\n",
      "41\n",
      "Fizz\n",
      "43\n",
      "44\n",
      "FizzBuzz\n",
      "46\n",
      "47\n",
      "Fizz\n",
      "49\n",
      "Buzz\n"
     ]
    }
   ],
   "source": [
    "nums = [] \n",
    "for i in range (1,51):\n",
    "    nums.append(i) #create list of 1-50 \n",
    "\n",
    "def FizzBuzz(list):\n",
    "    for j in range (0,len(nums)):\n",
    "        if list[j] % 5 == 0 and list[j] % 3 ==0:\n",
    "            print(\"FizzBuzz\")\n",
    "        elif list[j] % 5 == 0:\n",
    "            print(\"Buzz\")\n",
    "        elif  list[j] % 3 ==0:\n",
    "            print(\"Fizz\")\n",
    "        else:\n",
    "            print(list[j])\n",
    "    \n",
    "FizzBuzz(nums)\n",
    "\n"
   ]
  },
  {
   "cell_type": "markdown",
   "metadata": {},
   "source": [
    "#  Prime Sieve\n",
    "Using a for loop and if checks, generate a list of all primes ≤ 100."
   ]
  },
  {
   "cell_type": "code",
   "execution_count": null,
   "metadata": {},
   "outputs": [],
   "source": []
  }
 ],
 "metadata": {
  "kernelspec": {
   "display_name": "base",
   "language": "python",
   "name": "python3"
  },
  "language_info": {
   "codemirror_mode": {
    "name": "ipython",
    "version": 3
   },
   "file_extension": ".py",
   "mimetype": "text/x-python",
   "name": "python",
   "nbconvert_exporter": "python",
   "pygments_lexer": "ipython3",
   "version": "3.12.2"
  }
 },
 "nbformat": 4,
 "nbformat_minor": 2
}
